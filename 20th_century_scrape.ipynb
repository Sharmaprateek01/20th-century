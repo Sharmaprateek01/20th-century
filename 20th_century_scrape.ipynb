{
 "cells": [
  {
   "cell_type": "code",
   "execution_count": 3,
   "id": "fdead07b-21a6-4568-906c-f1bd51a9ca5f",
   "metadata": {
    "tags": []
   },
   "outputs": [],
   "source": [
    "# Import libraries\n",
    "\n",
    "import pandas as pd\n",
    "import time\n",
    "from selenium import webdriver\n",
    "from webdriver_manager.chrome import ChromeDriverManager\n",
    "from selenium.webdriver.common.by import By\n",
    "from selenium.webdriver.chrome.service import Service\n",
    "from selenium.webdriver.chrome.options import Options\n",
    "import matplotlib.pyplot as plt\n",
    "import os\n",
    "import logging\n",
    "import requests\n",
    "import bs4"
   ]
  },
  {
   "cell_type": "code",
   "execution_count": 6,
   "id": "f1452002-b072-4aef-93f5-f41c944ee956",
   "metadata": {
    "tags": []
   },
   "outputs": [],
   "source": [
    "# Setup chrome options\n",
    "chrome_options = Options()\n",
    "chrome_options.add_argument(\"--headless\")  # Ensure GUI is off\n",
    "chrome_options.add_argument(\"--no-sandbox\")"
   ]
  },
  {
   "cell_type": "code",
   "execution_count": 9,
   "id": "1f43ddb9-faab-409d-8a98-878bbf9846e3",
   "metadata": {
    "tags": []
   },
   "outputs": [],
   "source": [
    "# Install Chrome driver manager\n",
    "service = Service(executable_path=ChromeDriverManager().install())"
   ]
  },
  {
   "cell_type": "code",
   "execution_count": 12,
   "id": "8c0407b9-1f8d-47b9-8bfc-887b08aef752",
   "metadata": {
    "tags": []
   },
   "outputs": [],
   "source": [
    "driver = webdriver.Chrome(executable_path='/Users/prateeksharma/Downloads/chromedriver')"
   ]
  },
  {
   "cell_type": "code",
   "execution_count": 14,
   "id": "5c575f46-de04-4081-bdba-dfe0cb93d5d3",
   "metadata": {
    "tags": []
   },
   "outputs": [],
   "source": [
    "# Get the page’s contents\n",
    "page_url = \"https://en.wikipedia.org/wiki/Key_events_of_the_20th_century\"\n",
    "driver.get(page_url)"
   ]
  },
  {
   "cell_type": "code",
   "execution_count": 18,
   "id": "a53bf9a0-d377-4dc3-aa9c-4e836edaadf2",
   "metadata": {
    "tags": []
   },
   "outputs": [],
   "source": [
    "# Close the Chrome window\n",
    "driver.quit()"
   ]
  },
  {
   "cell_type": "code",
   "execution_count": 31,
   "id": "d9b97ec9-e996-4d07-83cd-83f12fa26bda",
   "metadata": {
    "tags": []
   },
   "outputs": [],
   "source": [
    "import requests\n",
    "from bs4 import BeautifulSoup"
   ]
  },
  {
   "cell_type": "code",
   "execution_count": 33,
   "id": "bb25470b-cb1a-4f70-89fc-f01579fee98c",
   "metadata": {
    "tags": []
   },
   "outputs": [],
   "source": [
    "# Get URL\n",
    "page = requests.get(\"https://en.wikipedia.org/wiki/Key_events_of_the_20th_century\")"
   ]
  },
  {
   "cell_type": "code",
   "execution_count": 40,
   "id": "2a80695c-e356-4d4e-a6c7-7ba351ad3dc9",
   "metadata": {
    "tags": []
   },
   "outputs": [
    {
     "name": "stdout",
     "output_type": "stream",
     "text": [
      "<title>Key events of the 20th century - Wikipedia</title>\n"
     ]
    }
   ],
   "source": [
    "# Create soup and get title\n",
    "soup = BeautifulSoup(page.text, 'html.parser')\n",
    "print(soup.title)"
   ]
  },
  {
   "cell_type": "code",
   "execution_count": 45,
   "id": "5af04a41-2d6a-43be-8185-2294406ce4d4",
   "metadata": {
    "tags": []
   },
   "outputs": [],
   "source": [
    "text = soup.get_text()\n",
    "text = text.encode('utf-8')\n",
    "with open('Key_events_of_the_20th_century.txt', 'wb') as f:\n",
    "    f.write(text)"
   ]
  },
  {
   "cell_type": "code",
   "execution_count": null,
   "id": "30fab5c1-4040-4f78-8cce-046af3ef9707",
   "metadata": {},
   "outputs": [],
   "source": []
  }
 ],
 "metadata": {
  "kernelspec": {
   "display_name": "Python [conda env:20th_century]",
   "language": "python",
   "name": "conda-env-20th_century-py"
  },
  "language_info": {
   "codemirror_mode": {
    "name": "ipython",
    "version": 3
   },
   "file_extension": ".py",
   "mimetype": "text/x-python",
   "name": "python",
   "nbconvert_exporter": "python",
   "pygments_lexer": "ipython3",
   "version": "3.12.3"
  }
 },
 "nbformat": 4,
 "nbformat_minor": 5
}
