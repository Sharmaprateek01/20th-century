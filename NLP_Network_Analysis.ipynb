{
 "cells": [
  {
   "cell_type": "markdown",
   "id": "2eefee67-a6c3-4d92-9b7b-497ae8dbd925",
   "metadata": {
    "tags": []
   },
   "source": [
    "### Importing libraries (NLP and Network analysis)"
   ]
  },
  {
   "cell_type": "code",
   "execution_count": 2,
   "id": "82d997f6-fcb4-4955-892e-0349462772c0",
   "metadata": {
    "tags": []
   },
   "outputs": [],
   "source": [
    "import pandas as pd\n",
    "import numpy as np\n",
    "import spacy\n",
    "from spacy import displacy\n",
    "import networkx as nx\n",
    "import os\n",
    "import matplotlib.pyplot as plt\n",
    "import scipy\n",
    "import re"
   ]
  },
  {
   "cell_type": "code",
   "execution_count": 3,
   "id": "18193fce-18fc-4f08-86ec-5d6c05b04009",
   "metadata": {
    "tags": []
   },
   "outputs": [],
   "source": [
    "# Download English module\n",
    "!python -m spacy download en_core_web_sm > /dev/null 2>&1"
   ]
  },
  {
   "cell_type": "code",
   "execution_count": 4,
   "id": "67a23c34-d72e-478c-a869-e68fbb015e42",
   "metadata": {},
   "outputs": [],
   "source": [
    "# Load spacy English module\n",
    "NER = spacy.load(\"en_core_web_sm\")"
   ]
  },
  {
   "cell_type": "code",
   "execution_count": 5,
   "id": "1d0f786c-dfdb-432d-a386-6d76b2e2c626",
   "metadata": {
    "tags": []
   },
   "outputs": [],
   "source": [
    "# Load the text file\n",
    "with open('Key_events_20th_century.txt', 'r', errors='ignore') as file:\n",
    "    data = file.read().replace('\\n', ' ').strip()"
   ]
  },
  {
   "cell_type": "code",
   "execution_count": 6,
   "id": "d2f5a3cb-b938-48a2-945e-eee969ffef79",
   "metadata": {
    "tags": []
   },
   "outputs": [],
   "source": [
    "data = re.sub(r\"[‘’“”'\\\"`]|(\\[edit\\])\", \" \", data)"
   ]
  },
  {
   "cell_type": "code",
   "execution_count": 7,
   "id": "ee34e95c-7127-4daa-9a37-3646c284aaca",
   "metadata": {
    "tags": []
   },
   "outputs": [],
   "source": [
    "book = NER(data)"
   ]
  },
  {
   "cell_type": "code",
   "execution_count": 8,
   "id": "6e936720-503c-4659-a0ff-419b377427ce",
   "metadata": {
    "tags": []
   },
   "outputs": [
    {
     "data": {
      "text/html": [
       "<span class=\"tex2jax_ignore\"><div class=\"entities\" style=\"line-height: 2.5; direction: ltr\">ReadEditView history        Tools      Tools move to sidebar hide    \t\tActions \t   ReadEditView history      \t\tGeneral \t   What links hereRelated changesUpload fileSpecial pagesPermanent linkPage informationCite this pageGet shortened \n",
       "<mark class=\"entity\" style=\"background: #7aecec; padding: 0.45em 0.6em; margin: 0 0.25em; line-height: 1; border-radius: 0.35em;\">\n",
       "    URLDownload\n",
       "    <span style=\"font-size: 0.8em; font-weight: bold; line-height: 1; border-radius: 0.35em; vertical-align: middle; margin-left: 0.5rem\">ORG</span>\n",
       "</mark>\n",
       " QR codeWikidata item      \t\t\n",
       "<mark class=\"entity\" style=\"background: #feca74; padding: 0.45em 0.6em; margin: 0 0.25em; line-height: 1; border-radius: 0.35em;\">\n",
       "    Print\n",
       "    <span style=\"font-size: 0.8em; font-weight: bold; line-height: 1; border-radius: 0.35em; vertical-align: middle; margin-left: 0.5rem\">GPE</span>\n",
       "</mark>\n",
       "/export \t   \n",
       "<mark class=\"entity\" style=\"background: #7aecec; padding: 0.45em 0.6em; margin: 0 0.25em; line-height: 1; border-radius: 0.35em;\">\n",
       "    Download\n",
       "    <span style=\"font-size: 0.8em; font-weight: bold; line-height: 1; border-radius: 0.35em; vertical-align: middle; margin-left: 0.5rem\">ORG</span>\n",
       "</mark>\n",
       " as \n",
       "<mark class=\"entity\" style=\"background: #7aecec; padding: 0.45em 0.6em; margin: 0 0.25em; line-height: 1; border-radius: 0.35em;\">\n",
       "    PDFPrintable\n",
       "    <span style=\"font-size: 0.8em; font-weight: bold; line-height: 1; border-radius: 0.35em; vertical-align: middle; margin-left: 0.5rem\">ORG</span>\n",
       "</mark>\n",
       " version      \t\tIn other projects \t   Wikimedia Commons                          From \n",
       "<mark class=\"entity\" style=\"background: #feca74; padding: 0.45em 0.6em; margin: 0 0.25em; line-height: 1; border-radius: 0.35em;\">\n",
       "    Wikipedia\n",
       "    <span style=\"font-size: 0.8em; font-weight: bold; line-height: 1; border-radius: 0.35em; vertical-align: middle; margin-left: 0.5rem\">GPE</span>\n",
       "</mark>\n",
       ", the free encyclopedia    \n",
       "<mark class=\"entity\" style=\"background: #bfe1d9; padding: 0.45em 0.6em; margin: 0 0.25em; line-height: 1; border-radius: 0.35em;\">\n",
       "    The 20th century\n",
       "    <span style=\"font-size: 0.8em; font-weight: bold; line-height: 1; border-radius: 0.35em; vertical-align: middle; margin-left: 0.5rem\">DATE</span>\n",
       "</mark>\n",
       " changed the world in unprecedented ways. The World Wars sparked tension between countries and led to the creation of atomic bombs, \n",
       "<mark class=\"entity\" style=\"background: #ffeb80; padding: 0.45em 0.6em; margin: 0 0.25em; line-height: 1; border-radius: 0.35em;\">\n",
       "    the Cold War\n",
       "    <span style=\"font-size: 0.8em; font-weight: bold; line-height: 1; border-radius: 0.35em; vertical-align: middle; margin-left: 0.5rem\">EVENT</span>\n",
       "</mark>\n",
       " led to \n",
       "<mark class=\"entity\" style=\"background: #f0d0ff; padding: 0.45em 0.6em; margin: 0 0.25em; line-height: 1; border-radius: 0.35em;\">\n",
       "    the Space Race\n",
       "    <span style=\"font-size: 0.8em; font-weight: bold; line-height: 1; border-radius: 0.35em; vertical-align: middle; margin-left: 0.5rem\">WORK_OF_ART</span>\n",
       "</mark>\n",
       " and the creation of space-based rockets, and \n",
       "<mark class=\"entity\" style=\"background: #f0d0ff; padding: 0.45em 0.6em; margin: 0 0.25em; line-height: 1; border-radius: 0.35em;\">\n",
       "    the World Wide Web\n",
       "    <span style=\"font-size: 0.8em; font-weight: bold; line-height: 1; border-radius: 0.35em; vertical-align: middle; margin-left: 0.5rem\">WORK_OF_ART</span>\n",
       "</mark>\n",
       " was created. These advancements have played a significant role in citizens  lives and shaped \n",
       "<mark class=\"entity\" style=\"background: #bfe1d9; padding: 0.45em 0.6em; margin: 0 0.25em; line-height: 1; border-radius: 0.35em;\">\n",
       "    the 21st century\n",
       "    <span style=\"font-size: 0.8em; font-weight: bold; line-height: 1; border-radius: 0.35em; vertical-align: middle; margin-left: 0.5rem\">DATE</span>\n",
       "</mark>\n",
       " into what it is \n",
       "<mark class=\"entity\" style=\"background: #bfe1d9; padding: 0.45em 0.6em; margin: 0 0.25em; line-height: 1; border-radius: 0.35em;\">\n",
       "    today\n",
       "    <span style=\"font-size: 0.8em; font-weight: bold; line-height: 1; border-radius: 0.35em; vertical-align: middle; margin-left: 0.5rem\">DATE</span>\n",
       "</mark>\n",
       ".   Events in \n",
       "<mark class=\"entity\" style=\"background: #bfe1d9; padding: 0.45em 0.6em; margin: 0 0.25em; line-height: 1; border-radius: 0.35em;\">\n",
       "    the 20th century\n",
       "    <span style=\"font-size: 0.8em; font-weight: bold; line-height: 1; border-radius: 0.35em; vertical-align: middle; margin-left: 0.5rem\">DATE</span>\n",
       "</mark>\n",
       "  The world at \n",
       "<mark class=\"entity\" style=\"background: #bfe1d9; padding: 0.45em 0.6em; margin: 0 0.25em; line-height: 1; border-radius: 0.35em;\">\n",
       "    the beginning of the century\n",
       "    <span style=\"font-size: 0.8em; font-weight: bold; line-height: 1; border-radius: 0.35em; vertical-align: middle; margin-left: 0.5rem\">DATE</span>\n",
       "</mark>\n",
       "  \n",
       "<mark class=\"entity\" style=\"background: #bfeeb7; padding: 0.45em 0.6em; margin: 0 0.25em; line-height: 1; border-radius: 0.35em;\">\n",
       "    Main\n",
       "    <span style=\"font-size: 0.8em; font-weight: bold; line-height: 1; border-radius: 0.35em; vertical-align: middle; margin-left: 0.5rem\">PRODUCT</span>\n",
       "</mark>\n",
       " article: Edwardian era The new beginning of \n",
       "<mark class=\"entity\" style=\"background: #bfe1d9; padding: 0.45em 0.6em; margin: 0 0.25em; line-height: 1; border-radius: 0.35em;\">\n",
       "    the 20th century\n",
       "    <span style=\"font-size: 0.8em; font-weight: bold; line-height: 1; border-radius: 0.35em; vertical-align: middle; margin-left: 0.5rem\">DATE</span>\n",
       "</mark>\n",
       " marked significant changes. \n",
       "<mark class=\"entity\" style=\"background: #bfe1d9; padding: 0.45em 0.6em; margin: 0 0.25em; line-height: 1; border-radius: 0.35em;\">\n",
       "    The 1900s\n",
       "    <span style=\"font-size: 0.8em; font-weight: bold; line-height: 1; border-radius: 0.35em; vertical-align: middle; margin-left: 0.5rem\">DATE</span>\n",
       "</mark>\n",
       " saw \n",
       "<mark class=\"entity\" style=\"background: #bfe1d9; padding: 0.45em 0.6em; margin: 0 0.25em; line-height: 1; border-radius: 0.35em;\">\n",
       "    the decade\n",
       "    <span style=\"font-size: 0.8em; font-weight: bold; line-height: 1; border-radius: 0.35em; vertical-align: middle; margin-left: 0.5rem\">DATE</span>\n",
       "</mark>\n",
       " herald a series of inventions, including the automobile, airplane and radio broadcasting. From \n",
       "<mark class=\"entity\" style=\"background: #bfe1d9; padding: 0.45em 0.6em; margin: 0 0.25em; line-height: 1; border-radius: 0.35em;\">\n",
       "    1914 to 1918\n",
       "    <span style=\"font-size: 0.8em; font-weight: bold; line-height: 1; border-radius: 0.35em; vertical-align: middle; margin-left: 0.5rem\">DATE</span>\n",
       "</mark>\n",
       ", \n",
       "<mark class=\"entity\" style=\"background: #ffeb80; padding: 0.45em 0.6em; margin: 0 0.25em; line-height: 1; border-radius: 0.35em;\">\n",
       "    the First World War\n",
       "    <span style=\"font-size: 0.8em; font-weight: bold; line-height: 1; border-radius: 0.35em; vertical-align: middle; margin-left: 0.5rem\">EVENT</span>\n",
       "</mark>\n",
       ", and its aftermath, caused major changes in the power balance of the world, destroying or transforming some of the most powerful empires.   The war to end all wars : \n",
       "<mark class=\"entity\" style=\"background: #ffeb80; padding: 0.45em 0.6em; margin: 0 0.25em; line-height: 1; border-radius: 0.35em;\">\n",
       "    World War I\n",
       "    <span style=\"font-size: 0.8em; font-weight: bold; line-height: 1; border-radius: 0.35em; vertical-align: middle; margin-left: 0.5rem\">EVENT</span>\n",
       "</mark>\n",
       " (1914–1918)  \n",
       "<mark class=\"entity\" style=\"background: #bfeeb7; padding: 0.45em 0.6em; margin: 0 0.25em; line-height: 1; border-radius: 0.35em;\">\n",
       "    Main\n",
       "    <span style=\"font-size: 0.8em; font-weight: bold; line-height: 1; border-radius: 0.35em; vertical-align: middle; margin-left: 0.5rem\">PRODUCT</span>\n",
       "</mark>\n",
       " article: \n",
       "<mark class=\"entity\" style=\"background: #ffeb80; padding: 0.45em 0.6em; margin: 0 0.25em; line-height: 1; border-radius: 0.35em;\">\n",
       "    World War I Arrest\n",
       "    <span style=\"font-size: 0.8em; font-weight: bold; line-height: 1; border-radius: 0.35em; vertical-align: middle; margin-left: 0.5rem\">EVENT</span>\n",
       "</mark>\n",
       " of a suspect in \n",
       "<mark class=\"entity\" style=\"background: #feca74; padding: 0.45em 0.6em; margin: 0 0.25em; line-height: 1; border-radius: 0.35em;\">\n",
       "    Sarajevo\n",
       "    <span style=\"font-size: 0.8em; font-weight: bold; line-height: 1; border-radius: 0.35em; vertical-align: middle; margin-left: 0.5rem\">GPE</span>\n",
       "</mark>\n",
       " following \n",
       "<mark class=\"entity\" style=\"background: #f0d0ff; padding: 0.45em 0.6em; margin: 0 0.25em; line-height: 1; border-radius: 0.35em;\">\n",
       "    the Assassination of Archduke Franz Ferdinand\n",
       "    <span style=\"font-size: 0.8em; font-weight: bold; line-height: 1; border-radius: 0.35em; vertical-align: middle; margin-left: 0.5rem\">WORK_OF_ART</span>\n",
       "</mark>\n",
       " \n",
       "<mark class=\"entity\" style=\"background: #ffeb80; padding: 0.45em 0.6em; margin: 0 0.25em; line-height: 1; border-radius: 0.35em;\">\n",
       "    The First World War\n",
       "    <span style=\"font-size: 0.8em; font-weight: bold; line-height: 1; border-radius: 0.35em; vertical-align: middle; margin-left: 0.5rem\">EVENT</span>\n",
       "</mark>\n",
       " (or simply WWI), termed  \n",
       "<mark class=\"entity\" style=\"background: #ffeb80; padding: 0.45em 0.6em; margin: 0 0.25em; line-height: 1; border-radius: 0.35em;\">\n",
       "    The Great War\n",
       "    <span style=\"font-size: 0.8em; font-weight: bold; line-height: 1; border-radius: 0.35em; vertical-align: middle; margin-left: 0.5rem\">EVENT</span>\n",
       "</mark>\n",
       "  by contemporaries, started in \n",
       "<mark class=\"entity\" style=\"background: #bfe1d9; padding: 0.45em 0.6em; margin: 0 0.25em; line-height: 1; border-radius: 0.35em;\">\n",
       "    1914\n",
       "    <span style=\"font-size: 0.8em; font-weight: bold; line-height: 1; border-radius: 0.35em; vertical-align: middle; margin-left: 0.5rem\">DATE</span>\n",
       "</mark>\n",
       " and ended in \n",
       "<mark class=\"entity\" style=\"background: #bfe1d9; padding: 0.45em 0.6em; margin: 0 0.25em; line-height: 1; border-radius: 0.35em;\">\n",
       "    1918\n",
       "    <span style=\"font-size: 0.8em; font-weight: bold; line-height: 1; border-radius: 0.35em; vertical-align: middle; margin-left: 0.5rem\">DATE</span>\n",
       "</mark>\n",
       ". The war and by extension \n",
       "<mark class=\"entity\" style=\"background: #bfe1d9; padding: 0.45em 0.6em; margin: 0 0.25em; line-height: 1; border-radius: 0.35em;\">\n",
       "    the century\n",
       "    <span style=\"font-size: 0.8em; font-weight: bold; line-height: 1; border-radius: 0.35em; vertical-align: middle; margin-left: 0.5rem\">DATE</span>\n",
       "</mark>\n",
       " as a whole was ignited by the Assassination in \n",
       "<mark class=\"entity\" style=\"background: #feca74; padding: 0.45em 0.6em; margin: 0 0.25em; line-height: 1; border-radius: 0.35em;\">\n",
       "    Sarajevo\n",
       "    <span style=\"font-size: 0.8em; font-weight: bold; line-height: 1; border-radius: 0.35em; vertical-align: middle; margin-left: 0.5rem\">GPE</span>\n",
       "</mark>\n",
       " of \n",
       "<mark class=\"entity\" style=\"background: #9cc9cc; padding: 0.45em 0.6em; margin: 0 0.25em; line-height: 1; border-radius: 0.35em;\">\n",
       "    the Austro-Hungarian Empire s\n",
       "    <span style=\"font-size: 0.8em; font-weight: bold; line-height: 1; border-radius: 0.35em; vertical-align: middle; margin-left: 0.5rem\">FAC</span>\n",
       "</mark>\n",
       " heir to the throne, Erzherzog Franz Ferdinand, by \n",
       "<mark class=\"entity\" style=\"background: #aa9cfc; padding: 0.45em 0.6em; margin: 0 0.25em; line-height: 1; border-radius: 0.35em;\">\n",
       "    Gavrilo Princip\n",
       "    <span style=\"font-size: 0.8em; font-weight: bold; line-height: 1; border-radius: 0.35em; vertical-align: middle; margin-left: 0.5rem\">PERSON</span>\n",
       "</mark>\n",
       " of the organization  \n",
       "<mark class=\"entity\" style=\"background: #aa9cfc; padding: 0.45em 0.6em; margin: 0 0.25em; line-height: 1; border-radius: 0.35em;\">\n",
       "    Young Bosnia\n",
       "    <span style=\"font-size: 0.8em; font-weight: bold; line-height: 1; border-radius: 0.35em; vertical-align: middle; margin-left: 0.5rem\">PERSON</span>\n",
       "</mark>\n",
       ",  \n",
       "<mark class=\"entity\" style=\"background: #c887fb; padding: 0.45em 0.6em; margin: 0 0.25em; line-height: 1; border-radius: 0.35em;\">\n",
       "    Bosnian Serbs\n",
       "    <span style=\"font-size: 0.8em; font-weight: bold; line-height: 1; border-radius: 0.35em; vertical-align: middle; margin-left: 0.5rem\">NORP</span>\n",
       "</mark>\n",
       "  liberation movement</div></span>"
      ],
      "text/plain": [
       "<IPython.core.display.HTML object>"
      ]
     },
     "metadata": {},
     "output_type": "display_data"
    }
   ],
   "source": [
    "# Visualize identified entities\n",
    "displacy.render(book[273:600], style=\"ent\", jupyter=True)"
   ]
  },
  {
   "cell_type": "markdown",
   "id": "46508324-8fca-4b5b-8b73-babec4dc21a5",
   "metadata": {},
   "source": [
    "The result labels can be seen with different values - \"DATE\", \"EVENT\", \"GPR\"(Geopolitical Entity),\"ORG\"(Organization)etc. At first glance, the algorithm seems to perform adequately but there are instances where it misclassifies terms like \"The Assassination of Archduke\" as \"Work of art\" which indicates room for improvement in the algorithm's accuracy."
   ]
  },
  {
   "cell_type": "code",
   "execution_count": 11,
   "id": "ac18282d-2f4a-41c3-8bad-65d1048674ef",
   "metadata": {
    "tags": []
   },
   "outputs": [],
   "source": [
    "## Get named entity list per sentence\n",
    "df_sentences = [] # empty shell to store results\n",
    "# Loop through sentences, get entity list for each sentence\n",
    "for sent in book.sents:\n",
    "    entity_list = [ent.text for ent in sent.ents]\n",
    "    df_sentences.append({\"sentence\": sent.text, \"entities\": entity_list})"
   ]
  },
  {
   "cell_type": "code",
   "execution_count": 12,
   "id": "ba87cf23-d329-4c9e-af1d-89b871ab94c2",
   "metadata": {
    "tags": []
   },
   "outputs": [],
   "source": [
    "df_sentences = pd.DataFrame(df_sentences)"
   ]
  },
  {
   "cell_type": "code",
   "execution_count": 13,
   "id": "e3154640-4202-4f4c-af3c-aa708fac0a0b",
   "metadata": {
    "tags": []
   },
   "outputs": [
    {
     "data": {
      "text/html": [
       "<div>\n",
       "<style scoped>\n",
       "    .dataframe tbody tr th:only-of-type {\n",
       "        vertical-align: middle;\n",
       "    }\n",
       "\n",
       "    .dataframe tbody tr th {\n",
       "        vertical-align: top;\n",
       "    }\n",
       "\n",
       "    .dataframe thead th {\n",
       "        text-align: right;\n",
       "    }\n",
       "</style>\n",
       "<table border=\"1\" class=\"dataframe\">\n",
       "  <thead>\n",
       "    <tr style=\"text-align: right;\">\n",
       "      <th></th>\n",
       "      <th>sentence</th>\n",
       "      <th>entities</th>\n",
       "    </tr>\n",
       "  </thead>\n",
       "  <tbody>\n",
       "    <tr>\n",
       "      <th>0</th>\n",
       "      <td>Key events of the 20th century - Wikipedia    ...</td>\n",
       "      <td>[the 20th century - Wikipedia                 ...</td>\n",
       "    </tr>\n",
       "    <tr>\n",
       "      <th>1</th>\n",
       "      <td>The war to end all wars : World War I (1914–19...</td>\n",
       "      <td>[World War I, 1.1.2The, Russian Revolution and...</td>\n",
       "    </tr>\n",
       "    <tr>\n",
       "      <th>2</th>\n",
       "      <td>Overlord        1.3.6Final days        1.3.7Th...</td>\n",
       "      <td>[1.3.6Final days, the Pacific      , 1.3.7.1Ba...</td>\n",
       "    </tr>\n",
       "    <tr>\n",
       "      <th>3</th>\n",
       "      <td>1.3.11The Holocaust        1.3.12The Nuclear A...</td>\n",
       "      <td>[1.4.1The, Cold War, 1.4.3War, the Cold War   ...</td>\n",
       "    </tr>\n",
       "    <tr>\n",
       "      <th>4</th>\n",
       "      <td>1.5The world at the end of the century</td>\n",
       "      <td>[the end of the century]</td>\n",
       "    </tr>\n",
       "    <tr>\n",
       "      <th>5</th>\n",
       "      <td>2See also        3References        4Sources  ...</td>\n",
       "      <td>[2See, 5External, the 20th century    2, Artic...</td>\n",
       "    </tr>\n",
       "    <tr>\n",
       "      <th>6</th>\n",
       "      <td>The World Wars sparked tension between countri...</td>\n",
       "      <td>[the Cold War, the Space Race, the World Wide ...</td>\n",
       "    </tr>\n",
       "    <tr>\n",
       "      <th>7</th>\n",
       "      <td>These advancements have played a significant r...</td>\n",
       "      <td>[the 21st century, today]</td>\n",
       "    </tr>\n",
       "    <tr>\n",
       "      <th>8</th>\n",
       "      <td>Events in the 20th century  The world at the b...</td>\n",
       "      <td>[the 20th century, the beginning of the centur...</td>\n",
       "    </tr>\n",
       "    <tr>\n",
       "      <th>9</th>\n",
       "      <td>The 1900s saw the decade herald a series of in...</td>\n",
       "      <td>[The 1900s, the decade]</td>\n",
       "    </tr>\n",
       "  </tbody>\n",
       "</table>\n",
       "</div>"
      ],
      "text/plain": [
       "                                            sentence  \\\n",
       "0  Key events of the 20th century - Wikipedia    ...   \n",
       "1  The war to end all wars : World War I (1914–19...   \n",
       "2  Overlord        1.3.6Final days        1.3.7Th...   \n",
       "3  1.3.11The Holocaust        1.3.12The Nuclear A...   \n",
       "4   1.5The world at the end of the century             \n",
       "5  2See also        3References        4Sources  ...   \n",
       "6  The World Wars sparked tension between countri...   \n",
       "7  These advancements have played a significant r...   \n",
       "8  Events in the 20th century  The world at the b...   \n",
       "9  The 1900s saw the decade herald a series of in...   \n",
       "\n",
       "                                            entities  \n",
       "0  [the 20th century - Wikipedia                 ...  \n",
       "1  [World War I, 1.1.2The, Russian Revolution and...  \n",
       "2  [1.3.6Final days, the Pacific      , 1.3.7.1Ba...  \n",
       "3  [1.4.1The, Cold War, 1.4.3War, the Cold War   ...  \n",
       "4                           [the end of the century]  \n",
       "5  [2See, 5External, the 20th century    2, Artic...  \n",
       "6  [the Cold War, the Space Race, the World Wide ...  \n",
       "7                          [the 21st century, today]  \n",
       "8  [the 20th century, the beginning of the centur...  \n",
       "9                            [The 1900s, the decade]  "
      ]
     },
     "execution_count": 13,
     "metadata": {},
     "output_type": "execute_result"
    }
   ],
   "source": [
    "df_sentences.head(10)"
   ]
  },
  {
   "cell_type": "code",
   "execution_count": 14,
   "id": "a223a7e9-56a6-4295-beb7-482ffb228a8c",
   "metadata": {
    "tags": []
   },
   "outputs": [],
   "source": [
    "# Import countries\n",
    "country_df = pd.read_csv(\"countries_list.csv\", index_col=0)"
   ]
  },
  {
   "cell_type": "code",
   "execution_count": 15,
   "id": "e0ea9865-4a4f-4460-beae-58d0720e8a8c",
   "metadata": {
    "tags": []
   },
   "outputs": [],
   "source": [
    "country_df['country_name'] = country_df['country_name'].str.strip()"
   ]
  },
  {
   "cell_type": "code",
   "execution_count": 16,
   "id": "45785149-83cf-41e8-844f-80892d633c90",
   "metadata": {
    "tags": []
   },
   "outputs": [
    {
     "data": {
      "text/html": [
       "<div>\n",
       "<style scoped>\n",
       "    .dataframe tbody tr th:only-of-type {\n",
       "        vertical-align: middle;\n",
       "    }\n",
       "\n",
       "    .dataframe tbody tr th {\n",
       "        vertical-align: top;\n",
       "    }\n",
       "\n",
       "    .dataframe thead th {\n",
       "        text-align: right;\n",
       "    }\n",
       "</style>\n",
       "<table border=\"1\" class=\"dataframe\">\n",
       "  <thead>\n",
       "    <tr style=\"text-align: right;\">\n",
       "      <th></th>\n",
       "      <th>country_name</th>\n",
       "    </tr>\n",
       "  </thead>\n",
       "  <tbody>\n",
       "    <tr>\n",
       "      <th>1</th>\n",
       "      <td>Afghanistan</td>\n",
       "    </tr>\n",
       "    <tr>\n",
       "      <th>2</th>\n",
       "      <td>Albania</td>\n",
       "    </tr>\n",
       "    <tr>\n",
       "      <th>3</th>\n",
       "      <td>Algeria</td>\n",
       "    </tr>\n",
       "    <tr>\n",
       "      <th>4</th>\n",
       "      <td>Andorra</td>\n",
       "    </tr>\n",
       "    <tr>\n",
       "      <th>5</th>\n",
       "      <td>Angola</td>\n",
       "    </tr>\n",
       "  </tbody>\n",
       "</table>\n",
       "</div>"
      ],
      "text/plain": [
       "  country_name\n",
       "1  Afghanistan\n",
       "2      Albania\n",
       "3      Algeria\n",
       "4      Andorra\n",
       "5       Angola"
      ]
     },
     "execution_count": 16,
     "metadata": {},
     "output_type": "execute_result"
    }
   ],
   "source": [
    "country_df.head()"
   ]
  },
  {
   "cell_type": "code",
   "execution_count": 17,
   "id": "3901cb83-a37f-48d2-b833-7695f2d9f56f",
   "metadata": {
    "tags": []
   },
   "outputs": [],
   "source": [
    "# Function to filter out entities not of interest\n",
    "def filter_entity(ent_list, country_df):\n",
    "    return [ent for ent in ent_list if ent in list(country_df['country_name'])]"
   ]
  },
  {
   "cell_type": "code",
   "execution_count": 18,
   "id": "70ab7d49-51f9-4193-97d2-34b2ecf79145",
   "metadata": {
    "tags": []
   },
   "outputs": [
    {
     "data": {
      "text/plain": [
       "['Afghanistan']"
      ]
     },
     "execution_count": 18,
     "metadata": {},
     "output_type": "execute_result"
    }
   ],
   "source": [
    "# Check\n",
    "filter_entity([\"Afghanistan\", \"CF\", \"2\"], country_df)"
   ]
  },
  {
   "cell_type": "code",
   "execution_count": 19,
   "id": "bf3e4b00-13e7-48be-bda2-afe3516c7d7d",
   "metadata": {
    "tags": []
   },
   "outputs": [],
   "source": [
    "df_sentences['country_entities'] = df_sentences['entities'].apply(lambda x: filter_entity(x, country_df))"
   ]
  },
  {
   "cell_type": "code",
   "execution_count": 20,
   "id": "5f26da69-f533-4cbc-81ba-8e225a11d911",
   "metadata": {
    "tags": []
   },
   "outputs": [
    {
     "name": "stdout",
     "output_type": "stream",
     "text": [
      "                                            sentence  \\\n",
      "0  Key events of the 20th century - Wikipedia    ...   \n",
      "1  The war to end all wars : World War I (1914–19...   \n",
      "2  Overlord        1.3.6Final days        1.3.7Th...   \n",
      "3  1.3.11The Holocaust        1.3.12The Nuclear A...   \n",
      "4   1.5The world at the end of the century             \n",
      "5  2See also        3References        4Sources  ...   \n",
      "6  The World Wars sparked tension between countri...   \n",
      "7  These advancements have played a significant r...   \n",
      "8  Events in the 20th century  The world at the b...   \n",
      "9  The 1900s saw the decade herald a series of in...   \n",
      "\n",
      "                                            entities country_entities  \n",
      "0  [the 20th century - Wikipedia                 ...               []  \n",
      "1  [World War I, 1.1.2The, Russian Revolution and...               []  \n",
      "2  [1.3.6Final days, the Pacific      , 1.3.7.1Ba...               []  \n",
      "3  [1.4.1The, Cold War, 1.4.3War, the Cold War   ...               []  \n",
      "4                           [the end of the century]               []  \n",
      "5  [2See, 5External, the 20th century    2, Artic...               []  \n",
      "6  [the Cold War, the Space Race, the World Wide ...               []  \n",
      "7                          [the 21st century, today]               []  \n",
      "8  [the 20th century, the beginning of the centur...               []  \n",
      "9                            [The 1900s, the decade]               []  \n"
     ]
    }
   ],
   "source": [
    "print(df_sentences.head(10))"
   ]
  },
  {
   "cell_type": "code",
   "execution_count": 21,
   "id": "a6a235ca-ab31-4b0e-8ffb-7f1e25884935",
   "metadata": {
    "tags": []
   },
   "outputs": [],
   "source": [
    "# Filter out sentences that don't have any country entities\n",
    "df_sentences_filtered = df_sentences[df_sentences['country_entities'].map(len) > 0]"
   ]
  },
  {
   "cell_type": "code",
   "execution_count": 22,
   "id": "b83a8f64-51ca-4e69-b65b-cf276b624c2d",
   "metadata": {
    "tags": []
   },
   "outputs": [
    {
     "data": {
      "text/html": [
       "<div>\n",
       "<style scoped>\n",
       "    .dataframe tbody tr th:only-of-type {\n",
       "        vertical-align: middle;\n",
       "    }\n",
       "\n",
       "    .dataframe tbody tr th {\n",
       "        vertical-align: top;\n",
       "    }\n",
       "\n",
       "    .dataframe thead th {\n",
       "        text-align: right;\n",
       "    }\n",
       "</style>\n",
       "<table border=\"1\" class=\"dataframe\">\n",
       "  <thead>\n",
       "    <tr style=\"text-align: right;\">\n",
       "      <th></th>\n",
       "      <th>sentence</th>\n",
       "      <th>entities</th>\n",
       "      <th>country_entities</th>\n",
       "    </tr>\n",
       "  </thead>\n",
       "  <tbody>\n",
       "    <tr>\n",
       "      <th>1184</th>\n",
       "      <td>The division of Germany - The Cold War (1945–1...</td>\n",
       "      <td>[Germany, The Cold War, 1945–1989]</td>\n",
       "      <td>[Germany]</td>\n",
       "    </tr>\n",
       "    <tr>\n",
       "      <th>1216</th>\n",
       "      <td>The forgotten violence that helped India break...</td>\n",
       "      <td>[India]</td>\n",
       "      <td>[India]</td>\n",
       "    </tr>\n",
       "    <tr>\n",
       "      <th>1221</th>\n",
       "      <td>Indian Independence Day: everything you need t...</td>\n",
       "      <td>[Indian, Partition, India, Pakistan, 70 years]</td>\n",
       "      <td>[India, Pakistan]</td>\n",
       "    </tr>\n",
       "    <tr>\n",
       "      <th>1231</th>\n",
       "      <td>The Philippines, 1898–1946 | US House of Repre...</td>\n",
       "      <td>[Philippines, 1898–1946, US House of Represent...</td>\n",
       "      <td>[Philippines]</td>\n",
       "    </tr>\n",
       "    <tr>\n",
       "      <th>1303</th>\n",
       "      <td>The Moldovans: Romania, Russia, and the Politi...</td>\n",
       "      <td>[Moldovans, Romania, Russia, the Politics of C...</td>\n",
       "      <td>[Romania, Russia]</td>\n",
       "    </tr>\n",
       "    <tr>\n",
       "      <th>1368</th>\n",
       "      <td>Selling  Operation Passage to Freedom : Dr. Th...</td>\n",
       "      <td>[Thomas Dooley, the Religious Overtones of Ear...</td>\n",
       "      <td>[Vietnam]</td>\n",
       "    </tr>\n",
       "    <tr>\n",
       "      <th>1402</th>\n",
       "      <td>Stuck in Endless Preliminaries: Vietnam and th...</td>\n",
       "      <td>[Stuck, Vietnam, the Battle of the Paris Peace...</td>\n",
       "      <td>[Vietnam]</td>\n",
       "    </tr>\n",
       "    <tr>\n",
       "      <th>1673</th>\n",
       "      <td>Anti-American Behavior in the Middle East: Evi...</td>\n",
       "      <td>[Anti-American, the Middle East, Lebanon]</td>\n",
       "      <td>[Lebanon]</td>\n",
       "    </tr>\n",
       "    <tr>\n",
       "      <th>1678</th>\n",
       "      <td>The Rise of China and India: A New Asian Drama.</td>\n",
       "      <td>[China, India, New Asian Drama]</td>\n",
       "      <td>[India]</td>\n",
       "    </tr>\n",
       "    <tr>\n",
       "      <th>1679</th>\n",
       "      <td>Singapore: World Scientific.</td>\n",
       "      <td>[Singapore, World Scientific]</td>\n",
       "      <td>[Singapore]</td>\n",
       "    </tr>\n",
       "  </tbody>\n",
       "</table>\n",
       "</div>"
      ],
      "text/plain": [
       "                                               sentence  \\\n",
       "1184  The division of Germany - The Cold War (1945–1...   \n",
       "1216  The forgotten violence that helped India break...   \n",
       "1221  Indian Independence Day: everything you need t...   \n",
       "1231  The Philippines, 1898–1946 | US House of Repre...   \n",
       "1303  The Moldovans: Romania, Russia, and the Politi...   \n",
       "1368  Selling  Operation Passage to Freedom : Dr. Th...   \n",
       "1402  Stuck in Endless Preliminaries: Vietnam and th...   \n",
       "1673  Anti-American Behavior in the Middle East: Evi...   \n",
       "1678    The Rise of China and India: A New Asian Drama.   \n",
       "1679                       Singapore: World Scientific.   \n",
       "\n",
       "                                               entities   country_entities  \n",
       "1184                 [Germany, The Cold War, 1945–1989]          [Germany]  \n",
       "1216                                            [India]            [India]  \n",
       "1221     [Indian, Partition, India, Pakistan, 70 years]  [India, Pakistan]  \n",
       "1231  [Philippines, 1898–1946, US House of Represent...      [Philippines]  \n",
       "1303  [Moldovans, Romania, Russia, the Politics of C...  [Romania, Russia]  \n",
       "1368  [Thomas Dooley, the Religious Overtones of Ear...          [Vietnam]  \n",
       "1402  [Stuck, Vietnam, the Battle of the Paris Peace...          [Vietnam]  \n",
       "1673          [Anti-American, the Middle East, Lebanon]          [Lebanon]  \n",
       "1678                    [China, India, New Asian Drama]            [India]  \n",
       "1679                      [Singapore, World Scientific]        [Singapore]  "
      ]
     },
     "execution_count": 22,
     "metadata": {},
     "output_type": "execute_result"
    }
   ],
   "source": [
    "df_sentences_filtered.tail(10)"
   ]
  },
  {
   "cell_type": "markdown",
   "id": "1f312ad5-33f5-4fe5-8d72-1dd7aa49f000",
   "metadata": {},
   "source": [
    "## Create relationships"
   ]
  },
  {
   "cell_type": "code",
   "execution_count": 24,
   "id": "5819c935-d8d1-4dec-ae4e-ae31e8b12a7f",
   "metadata": {
    "tags": []
   },
   "outputs": [],
   "source": [
    "#Create relationships\n",
    "relationships = []\n",
    "window_size = 5  # Define the window size for looking at multiple sentences\n",
    "\n",
    "for i in range(len(df_sentences_filtered) - 1):\n",
    "    end_i = min(i + window_size, len(df_sentences_filtered))\n",
    "    country_list = sum(df_sentences_filtered.iloc[i:end_i]['country_entities'], [])\n",
    "    \n",
    "    # Remove duplicated countries that are next to each other\n",
    "    country_unique = [country_list[j] for j in range(len(country_list)) if (j == 0) or country_list[j] != country_list[j - 1]]\n",
    "    \n",
    "    if len(country_unique) > 1:\n",
    "        for idx, a in enumerate(country_unique[:-1]):\n",
    "            b = country_unique[idx + 1]\n",
    "            relationships.append({\"source\": a, \"target\": b})"
   ]
  },
  {
   "cell_type": "code",
   "execution_count": 25,
   "id": "dcfce095-e9bb-463e-83ab-1fa8beb606f4",
   "metadata": {
    "tags": []
   },
   "outputs": [
    {
     "data": {
      "text/html": [
       "<div>\n",
       "<style scoped>\n",
       "    .dataframe tbody tr th:only-of-type {\n",
       "        vertical-align: middle;\n",
       "    }\n",
       "\n",
       "    .dataframe tbody tr th {\n",
       "        vertical-align: top;\n",
       "    }\n",
       "\n",
       "    .dataframe thead th {\n",
       "        text-align: right;\n",
       "    }\n",
       "</style>\n",
       "<table border=\"1\" class=\"dataframe\">\n",
       "  <thead>\n",
       "    <tr style=\"text-align: right;\">\n",
       "      <th></th>\n",
       "      <th>source</th>\n",
       "      <th>target</th>\n",
       "    </tr>\n",
       "  </thead>\n",
       "  <tbody>\n",
       "    <tr>\n",
       "      <th>0</th>\n",
       "      <td>France</td>\n",
       "      <td>Italy</td>\n",
       "    </tr>\n",
       "    <tr>\n",
       "      <th>1</th>\n",
       "      <td>Italy</td>\n",
       "      <td>Russia</td>\n",
       "    </tr>\n",
       "    <tr>\n",
       "      <th>2</th>\n",
       "      <td>Russia</td>\n",
       "      <td>Germany</td>\n",
       "    </tr>\n",
       "    <tr>\n",
       "      <th>3</th>\n",
       "      <td>Germany</td>\n",
       "      <td>Bulgaria</td>\n",
       "    </tr>\n",
       "    <tr>\n",
       "      <th>4</th>\n",
       "      <td>Bulgaria</td>\n",
       "      <td>Russia</td>\n",
       "    </tr>\n",
       "    <tr>\n",
       "      <th>...</th>\n",
       "      <td>...</td>\n",
       "      <td>...</td>\n",
       "    </tr>\n",
       "    <tr>\n",
       "      <th>651</th>\n",
       "      <td>Lebanon</td>\n",
       "      <td>India</td>\n",
       "    </tr>\n",
       "    <tr>\n",
       "      <th>652</th>\n",
       "      <td>India</td>\n",
       "      <td>Singapore</td>\n",
       "    </tr>\n",
       "    <tr>\n",
       "      <th>653</th>\n",
       "      <td>Lebanon</td>\n",
       "      <td>India</td>\n",
       "    </tr>\n",
       "    <tr>\n",
       "      <th>654</th>\n",
       "      <td>India</td>\n",
       "      <td>Singapore</td>\n",
       "    </tr>\n",
       "    <tr>\n",
       "      <th>655</th>\n",
       "      <td>India</td>\n",
       "      <td>Singapore</td>\n",
       "    </tr>\n",
       "  </tbody>\n",
       "</table>\n",
       "<p>656 rows × 2 columns</p>\n",
       "</div>"
      ],
      "text/plain": [
       "       source     target\n",
       "0      France      Italy\n",
       "1       Italy     Russia\n",
       "2      Russia    Germany\n",
       "3     Germany   Bulgaria\n",
       "4    Bulgaria     Russia\n",
       "..        ...        ...\n",
       "651   Lebanon      India\n",
       "652     India  Singapore\n",
       "653   Lebanon      India\n",
       "654     India  Singapore\n",
       "655     India  Singapore\n",
       "\n",
       "[656 rows x 2 columns]"
      ]
     },
     "execution_count": 25,
     "metadata": {},
     "output_type": "execute_result"
    }
   ],
   "source": [
    "relationship_df = pd.DataFrame(relationships)\n",
    "relationship_df"
   ]
  },
  {
   "cell_type": "code",
   "execution_count": 26,
   "id": "640335d5-813a-445d-9c53-cfc5c2d2260c",
   "metadata": {
    "tags": []
   },
   "outputs": [
    {
     "data": {
      "text/html": [
       "<div>\n",
       "<style scoped>\n",
       "    .dataframe tbody tr th:only-of-type {\n",
       "        vertical-align: middle;\n",
       "    }\n",
       "\n",
       "    .dataframe tbody tr th {\n",
       "        vertical-align: top;\n",
       "    }\n",
       "\n",
       "    .dataframe thead th {\n",
       "        text-align: right;\n",
       "    }\n",
       "</style>\n",
       "<table border=\"1\" class=\"dataframe\">\n",
       "  <thead>\n",
       "    <tr style=\"text-align: right;\">\n",
       "      <th></th>\n",
       "      <th>source</th>\n",
       "      <th>target</th>\n",
       "    </tr>\n",
       "  </thead>\n",
       "  <tbody>\n",
       "    <tr>\n",
       "      <th>0</th>\n",
       "      <td>France</td>\n",
       "      <td>Italy</td>\n",
       "    </tr>\n",
       "    <tr>\n",
       "      <th>1</th>\n",
       "      <td>Italy</td>\n",
       "      <td>Russia</td>\n",
       "    </tr>\n",
       "    <tr>\n",
       "      <th>2</th>\n",
       "      <td>Germany</td>\n",
       "      <td>Russia</td>\n",
       "    </tr>\n",
       "    <tr>\n",
       "      <th>3</th>\n",
       "      <td>Bulgaria</td>\n",
       "      <td>Germany</td>\n",
       "    </tr>\n",
       "    <tr>\n",
       "      <th>4</th>\n",
       "      <td>Bulgaria</td>\n",
       "      <td>Russia</td>\n",
       "    </tr>\n",
       "  </tbody>\n",
       "</table>\n",
       "</div>"
      ],
      "text/plain": [
       "     source   target\n",
       "0    France    Italy\n",
       "1     Italy   Russia\n",
       "2   Germany   Russia\n",
       "3  Bulgaria  Germany\n",
       "4  Bulgaria   Russia"
      ]
     },
     "execution_count": 26,
     "metadata": {},
     "output_type": "execute_result"
    }
   ],
   "source": [
    "# Sort the cases with a->b and b->a\n",
    "relationship_df = pd.DataFrame(np.sort(relationship_df.values, axis = 1), columns = relationship_df.columns)\n",
    "relationship_df.head(5)"
   ]
  },
  {
   "cell_type": "code",
   "execution_count": 28,
   "id": "32d8852b-b84b-46e6-b8be-f67b9622e172",
   "metadata": {
    "tags": []
   },
   "outputs": [],
   "source": [
    "# Summarize the interactions\n",
    "relationship_df[\"value\"] = 1\n",
    "relationship_df = relationship_df.groupby([\"source\",\"target\"], sort=False, as_index=False).sum()"
   ]
  },
  {
   "cell_type": "code",
   "execution_count": 32,
   "id": "a3ece823-da85-41ad-972a-a6f3eb189684",
   "metadata": {
    "tags": []
   },
   "outputs": [
    {
     "data": {
      "text/html": [
       "<div>\n",
       "<style scoped>\n",
       "    .dataframe tbody tr th:only-of-type {\n",
       "        vertical-align: middle;\n",
       "    }\n",
       "\n",
       "    .dataframe tbody tr th {\n",
       "        vertical-align: top;\n",
       "    }\n",
       "\n",
       "    .dataframe thead th {\n",
       "        text-align: right;\n",
       "    }\n",
       "</style>\n",
       "<table border=\"1\" class=\"dataframe\">\n",
       "  <thead>\n",
       "    <tr style=\"text-align: right;\">\n",
       "      <th></th>\n",
       "      <th>source</th>\n",
       "      <th>target</th>\n",
       "      <th>value</th>\n",
       "    </tr>\n",
       "  </thead>\n",
       "  <tbody>\n",
       "    <tr>\n",
       "      <th>0</th>\n",
       "      <td>France</td>\n",
       "      <td>Italy</td>\n",
       "      <td>13</td>\n",
       "    </tr>\n",
       "    <tr>\n",
       "      <th>1</th>\n",
       "      <td>Italy</td>\n",
       "      <td>Russia</td>\n",
       "      <td>1</td>\n",
       "    </tr>\n",
       "    <tr>\n",
       "      <th>2</th>\n",
       "      <td>Germany</td>\n",
       "      <td>Russia</td>\n",
       "      <td>16</td>\n",
       "    </tr>\n",
       "    <tr>\n",
       "      <th>3</th>\n",
       "      <td>Bulgaria</td>\n",
       "      <td>Germany</td>\n",
       "      <td>2</td>\n",
       "    </tr>\n",
       "    <tr>\n",
       "      <th>4</th>\n",
       "      <td>Bulgaria</td>\n",
       "      <td>Russia</td>\n",
       "      <td>2</td>\n",
       "    </tr>\n",
       "    <tr>\n",
       "      <th>5</th>\n",
       "      <td>Germany</td>\n",
       "      <td>Italy</td>\n",
       "      <td>26</td>\n",
       "    </tr>\n",
       "    <tr>\n",
       "      <th>6</th>\n",
       "      <td>Austria</td>\n",
       "      <td>Germany</td>\n",
       "      <td>9</td>\n",
       "    </tr>\n",
       "    <tr>\n",
       "      <th>7</th>\n",
       "      <td>Germany</td>\n",
       "      <td>Spain</td>\n",
       "      <td>4</td>\n",
       "    </tr>\n",
       "    <tr>\n",
       "      <th>8</th>\n",
       "      <td>France</td>\n",
       "      <td>Spain</td>\n",
       "      <td>4</td>\n",
       "    </tr>\n",
       "    <tr>\n",
       "      <th>9</th>\n",
       "      <td>France</td>\n",
       "      <td>Poland</td>\n",
       "      <td>9</td>\n",
       "    </tr>\n",
       "  </tbody>\n",
       "</table>\n",
       "</div>"
      ],
      "text/plain": [
       "     source   target  value\n",
       "0    France    Italy     13\n",
       "1     Italy   Russia      1\n",
       "2   Germany   Russia     16\n",
       "3  Bulgaria  Germany      2\n",
       "4  Bulgaria   Russia      2\n",
       "5   Germany    Italy     26\n",
       "6   Austria  Germany      9\n",
       "7   Germany    Spain      4\n",
       "8    France    Spain      4\n",
       "9    France   Poland      9"
      ]
     },
     "execution_count": 32,
     "metadata": {},
     "output_type": "execute_result"
    }
   ],
   "source": [
    "relationship_df.head(10)"
   ]
  },
  {
   "cell_type": "code",
   "execution_count": 33,
   "id": "c5990b67-db9c-4f8d-a288-f2c418aeb145",
   "metadata": {
    "tags": []
   },
   "outputs": [],
   "source": [
    "relationship_df.to_csv('country_relationship.csv')"
   ]
  }
 ],
 "metadata": {
  "kernelspec": {
   "display_name": "Python [conda env:20th_century]",
   "language": "python",
   "name": "conda-env-20th_century-py"
  },
  "language_info": {
   "codemirror_mode": {
    "name": "ipython",
    "version": 3
   },
   "file_extension": ".py",
   "mimetype": "text/x-python",
   "name": "python",
   "nbconvert_exporter": "python",
   "pygments_lexer": "ipython3",
   "version": "3.12.3"
  }
 },
 "nbformat": 4,
 "nbformat_minor": 5
}
