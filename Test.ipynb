{
 "cells": [
  {
   "cell_type": "markdown",
   "id": "6d7a7404-3ffa-4a41-90b6-f13bdfeea7de",
   "metadata": {},
   "source": [
    "This is a test script "
   ]
  },
  {
   "cell_type": "code",
   "execution_count": null,
   "id": "f2fb5808-d291-4d32-8c8f-1c36db0b501d",
   "metadata": {},
   "outputs": [],
   "source": []
  }
 ],
 "metadata": {
  "kernelspec": {
   "display_name": "Python 3 (ipykernel)",
   "language": "python",
   "name": "python3"
  },
  "language_info": {
   "codemirror_mode": {
    "name": "ipython",
    "version": 3
   },
   "file_extension": ".py",
   "mimetype": "text/x-python",
   "name": "python",
   "nbconvert_exporter": "python",
   "pygments_lexer": "ipython3",
   "version": "3.11.5"
  }
 },
 "nbformat": 4,
 "nbformat_minor": 5
}
